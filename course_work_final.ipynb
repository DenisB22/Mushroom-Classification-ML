{
  "nbformat": 4,
  "nbformat_minor": 0,
  "metadata": {
    "colab": {
      "provenance": [],
      "include_colab_link": true
    },
    "kernelspec": {
      "name": "python3",
      "display_name": "Python 3"
    },
    "language_info": {
      "name": "python"
    }
  },
  "cells": [
    {
      "cell_type": "markdown",
      "metadata": {
        "id": "view-in-github",
        "colab_type": "text"
      },
      "source": [
        "<a href=\"https://colab.research.google.com/github/DenisB22/Mushroom-Classification-ML/blob/main/course_work_final.ipynb\" target=\"_parent\"><img src=\"https://colab.research.google.com/assets/colab-badge.svg\" alt=\"Open In Colab\"/></a>"
      ]
    },
    {
      "cell_type": "code",
      "source": [
        "import torch\n",
        "import torch.nn as nn\n",
        "import torch.nn.functional as F\n",
        "import torch.optim as optim\n",
        "import pandas as pd\n",
        "import numpy as np\n",
        "from sklearn.preprocessing import LabelEncoder\n",
        "from sklearn.model_selection import train_test_split\n",
        "\n",
        "from imblearn.over_sampling import RandomOverSampler\n",
        "\n",
        "# Define the neural network model\n",
        "class Net(nn.Module):\n",
        "    def __init__(self):\n",
        "        super(Net, self).__init__()\n",
        "        self.fc1 = nn.Linear(128, 64)\n",
        "        self.fc2 = nn.Linear(64, 32)\n",
        "        self.fc3 = nn.Linear(32, 1)\n",
        "\n",
        " \n",
        "\n",
        "    def forward(self, x):\n",
        "        x = F.relu(self.fc1(x))\n",
        "        x = F.relu(self.fc2(x))\n",
        "        \n",
        "        x = torch.sigmoid(self.fc3(x))\n",
        "        \n",
        "        return x\n",
        "\n",
        "# Read and preprocess the data\n",
        "train_data = pd.read_csv(\"/content/shroom/train_data.csv\")\n",
        "test_data = pd.read_csv(\"/content/shroom/test_data.csv\")\n",
        "train_data = train_data.drop(columns=[\"id\"]) # Drop the ID column\n",
        "test_data_ids = test_data[\"id\"].values # Get the test data IDs\n",
        "test_data = test_data.drop(columns=[\"id\"]) # Drop the ID column\n",
        "\n",
        "train_numeric_features = train_data.dtypes[train_data.dtypes != 'object'].index\n",
        "test_numeric_features = test_data.dtypes[test_data.dtypes != 'object'].index\n",
        "\n",
        "train_data[train_numeric_features] = train_data[train_numeric_features].apply(\n",
        "    lambda x: (x - x.mean()) / (x.std()))\n",
        "\n",
        "test_data[test_numeric_features] = test_data[test_numeric_features].apply(\n",
        "    lambda x: (x - x.mean()) / (x.std()))\n",
        "\n",
        "train_data[train_numeric_features] = train_data[train_numeric_features].fillna(0)\n",
        "test_data[test_numeric_features] = test_data[test_numeric_features].fillna(0)\n",
        "train_data[\"poisonous\"] = train_data[\"poisonous\"].apply(lambda x: 1 if x == 'y' else 0)\n",
        "\n",
        "train_data = pd.get_dummies(train_data, dummy_na=True)\n",
        "test_data = pd.get_dummies(test_data, dummy_na=True)\n",
        "\n",
        "# print(train_data['poisonous_y'])\n",
        "\n",
        "# le = LabelEncoder() # Encode categorical data as integers\n",
        "# train_data = train_data.apply(le.fit_transform)\n",
        "# # test_data = test_data.fillna(test_data.mode().iloc[0])\n",
        "# test_data = test_data.apply(le.fit_transform)\n",
        "\n",
        "X_train = train_data.drop(columns=[\"poisonous\"]).values\n",
        "y_train = train_data[\"poisonous\"].values\n",
        "X_test = test_data.values\n",
        "\n",
        "oversample = RandomOverSampler(random_state=42)\n",
        "X_train, y_train = oversample.fit_resample(X_train, y_train)\n",
        "\n",
        "X_train, X_val, y_train, y_val = train_test_split(X_train, y_train, test_size=0.2)\n",
        "\n",
        "X_train = torch.from_numpy(X_train).float()\n",
        "y_train = torch.from_numpy(y_train).float().view(-1, 1)\n",
        "\n",
        "X_val = torch.from_numpy(X_val).float()\n",
        "y_val = torch.from_numpy(y_val).float().view(-1, 1)\n",
        "\n",
        "X_test = torch.from_numpy(X_test).float()\n",
        "\n",
        "# Train the neural network model\n",
        "net = Net()\n",
        "criterion = nn.BCELoss()\n",
        "# optimizer = optim.SGD(net.parameters(), lr=0.01)\n",
        "optimizer = optim.Adam(net.parameters(), lr=0.01)\n",
        "train_ls = []\n",
        "\n",
        "for epoch in range(1200):\n",
        "    optimizer.zero_grad()\n",
        "    output = net(X_train)\n",
        "    loss = criterion(output, y_train)\n",
        "    loss.backward()\n",
        "    optimizer.step()\n",
        "    train_ls.append(loss.item())\n",
        "    if epoch % 100 == 0:\n",
        "        print(f\"Epoch {epoch+1}/{1000}, Loss: {loss.item()}\")\n",
        "\n",
        "# Test the neural network model\n",
        "with torch.no_grad():\n",
        "    net.eval()\n",
        "    output = net(X_val)\n",
        "    predicted = (output >= 0.5).float()\n",
        "    accuracy = (predicted == y_val).float().mean()\n",
        "    print(f\"Validation Accuracy: {accuracy.item()}\")\n",
        "\n",
        "# Generate predictions for the test data\n",
        "with torch.no_grad():\n",
        "    net.eval()\n",
        "    output = net(X_test)\n",
        "    predicted = (output >= 0.5).float().view(-1)\n",
        "    predicted_labels = l.inverse_transform(predicted.int().numpy())\n",
        "\n",
        "# Write the predicted labels to a CSV file\n",
        "output_df = pd.DataFrame({\"id\": test_data_ids, \"poisonous\": predicted_labels})\n",
        "output_df.to_csv(\"result.csv\", index=False)\n",
        "\n",
        "# Load the predicted labels from the result.csv file\n",
        "df = pd.read_csv(\"/content/result.csv\")\n",
        "\n",
        "# Convert the numerical labels to \"y\" or \"n\"\n",
        "df[\"poisonous\"] = df[\"poisonous\"].apply(lambda x: \"y\" if x == 's' else \"n\")\n",
        "\n",
        "# Save the updated labels to a new file\n",
        "df.to_csv(\"result_updated.csv\", index=False)\n"
      ],
      "metadata": {
        "colab": {
          "base_uri": "https://localhost:8080/",
          "height": 460
        },
        "id": "077wgiTdMEmu",
        "outputId": "6d74c04e-9683-4d95-8683-3f50a3684364"
      },
      "execution_count": null,
      "outputs": [
        {
          "output_type": "stream",
          "name": "stdout",
          "text": [
            "Epoch 1/1000, Loss: 0.6937305331230164\n",
            "Epoch 101/1000, Loss: 0.00019353243988007307\n",
            "Epoch 201/1000, Loss: 8.46208495204337e-05\n",
            "Epoch 301/1000, Loss: 4.832736885873601e-05\n",
            "Epoch 401/1000, Loss: 3.1347357435151935e-05\n",
            "Epoch 501/1000, Loss: 2.196307286794763e-05\n",
            "Epoch 601/1000, Loss: 1.6230724213528447e-05\n",
            "Epoch 701/1000, Loss: 1.2485690604080446e-05\n",
            "Epoch 801/1000, Loss: 9.897690688376315e-06\n",
            "Epoch 901/1000, Loss: 8.025695933611132e-06\n",
            "Epoch 1001/1000, Loss: 6.6259599407203496e-06\n",
            "Epoch 1101/1000, Loss: 5.557154509006068e-06\n",
            "Validation Accuracy: 0.9955357313156128\n"
          ]
        },
        {
          "output_type": "error",
          "ename": "NameError",
          "evalue": "ignored",
          "traceback": [
            "\u001b[0;31m---------------------------------------------------------------------------\u001b[0m",
            "\u001b[0;31mNameError\u001b[0m                                 Traceback (most recent call last)",
            "\u001b[0;32m<ipython-input-2-24079d06c555>\u001b[0m in \u001b[0;36m<module>\u001b[0;34m\u001b[0m\n\u001b[1;32m    105\u001b[0m     \u001b[0moutput\u001b[0m \u001b[0;34m=\u001b[0m \u001b[0mnet\u001b[0m\u001b[0;34m(\u001b[0m\u001b[0mX_test\u001b[0m\u001b[0;34m)\u001b[0m\u001b[0;34m\u001b[0m\u001b[0;34m\u001b[0m\u001b[0m\n\u001b[1;32m    106\u001b[0m     \u001b[0mpredicted\u001b[0m \u001b[0;34m=\u001b[0m \u001b[0;34m(\u001b[0m\u001b[0moutput\u001b[0m \u001b[0;34m>=\u001b[0m \u001b[0;36m0.5\u001b[0m\u001b[0;34m)\u001b[0m\u001b[0;34m.\u001b[0m\u001b[0mfloat\u001b[0m\u001b[0;34m(\u001b[0m\u001b[0;34m)\u001b[0m\u001b[0;34m.\u001b[0m\u001b[0mview\u001b[0m\u001b[0;34m(\u001b[0m\u001b[0;34m-\u001b[0m\u001b[0;36m1\u001b[0m\u001b[0;34m)\u001b[0m\u001b[0;34m\u001b[0m\u001b[0;34m\u001b[0m\u001b[0m\n\u001b[0;32m--> 107\u001b[0;31m     \u001b[0mpredicted_labels\u001b[0m \u001b[0;34m=\u001b[0m \u001b[0mle\u001b[0m\u001b[0;34m.\u001b[0m\u001b[0minverse_transform\u001b[0m\u001b[0;34m(\u001b[0m\u001b[0mpredicted\u001b[0m\u001b[0;34m.\u001b[0m\u001b[0mint\u001b[0m\u001b[0;34m(\u001b[0m\u001b[0;34m)\u001b[0m\u001b[0;34m.\u001b[0m\u001b[0mnumpy\u001b[0m\u001b[0;34m(\u001b[0m\u001b[0;34m)\u001b[0m\u001b[0;34m)\u001b[0m\u001b[0;34m\u001b[0m\u001b[0;34m\u001b[0m\u001b[0m\n\u001b[0m\u001b[1;32m    108\u001b[0m \u001b[0;34m\u001b[0m\u001b[0m\n\u001b[1;32m    109\u001b[0m \u001b[0;31m# Write the predicted labels to a CSV file\u001b[0m\u001b[0;34m\u001b[0m\u001b[0;34m\u001b[0m\u001b[0;34m\u001b[0m\u001b[0m\n",
            "\u001b[0;31mNameError\u001b[0m: name 'le' is not defined"
          ]
        }
      ]
    },
    {
      "cell_type": "code",
      "source": [
        "import matplotlib.pyplot as plt\n",
        "\n",
        "plt.plot(np.arange(1, 1200+1), train_ls)\n",
        "plt.xlabel(\"epoch\")\n",
        "plt.ylabel(\"loss\")\n",
        "plt.yscale(\"log\")\n",
        "plt.show()"
      ],
      "metadata": {
        "colab": {
          "base_uri": "https://localhost:8080/",
          "height": 281
        },
        "id": "ShiyvMkROBbC",
        "outputId": "cf2819f2-2d31-45e5-be49-b120238d9507"
      },
      "execution_count": null,
      "outputs": [
        {
          "output_type": "display_data",
          "data": {
            "text/plain": [
              "<Figure size 432x288 with 1 Axes>"
            ],
            "image/png": "[encoded data removed]"
          },
          "metadata": {
            "needs_background": "light"
          }
        }
      ]
    }
  ]
}